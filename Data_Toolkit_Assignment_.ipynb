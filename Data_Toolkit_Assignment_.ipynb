{
  "nbformat": 4,
  "nbformat_minor": 0,
  "metadata": {
    "colab": {
      "provenance": []
    },
    "kernelspec": {
      "name": "python3",
      "display_name": "Python 3"
    },
    "language_info": {
      "name": "python"
    }
  },
  "cells": [
    {
      "cell_type": "markdown",
      "source": [
        "# Data Toolkit Questions"
      ],
      "metadata": {
        "id": "iHcKcItl2cjD"
      }
    },
    {
      "cell_type": "markdown",
      "source": [
        "**1.What is NumPy, and why is it widely used in Python?**\n",
        "\n",
        "ans-NumPy (short for Numerical Python) is a powerful Python library used for numerical computations. It provides support for large, multi-dimensional arrays and matrices, along with a collection of mathematical functions to perform operations on these arrays efficiently.\n",
        "\n",
        "Why NumPy is Widely Used:\n",
        "- Efficient Handling of Data:- NumPy uses arrays (instead of Python lists), which are more compact and allow faster processing of large datasets.\n",
        "\n",
        "- Built-In Mathematical Functions:- Includes a vast range of optimized mathematical operations (e.g., linear algebra, statistics, trigonometry).\n",
        "\n",
        "- Multidimensional Arrays:- Offers support for multi-dimensional arrays with functionality to slice, reshape, and manipulate data easily.\n",
        "\n",
        "- Broadcasting:- Allows operations to be performed on arrays of different shapes, enabling flexibility.\n",
        "\n",
        "- Interoperability with Other Libraries:- It integrates seamlessly with other Python libraries like Pandas, Matplotlib, and Scikit-Learn, making it essential for data science, machine learning, and scientific computing.\n",
        "\n",
        "- Vectorized Operations:- Replaces iterative loops with vectorized operations, resulting in faster execution of mathematical computations.\n",
        "\n",
        "- Community Support and Resources:- Widely used in academic research, machine learning, and data analysis, with abundant documentation and tutorials available.\n"
      ],
      "metadata": {
        "id": "HhKsyE7voNMR"
      }
    },
    {
      "cell_type": "markdown",
      "source": [
        "**2. How does broadcasting work in NumPy?**\n",
        "\n",
        "ans- How Broadcasting Works:\n",
        "- Matching Array Shapes:- NumPy compares the shapes of the arrays from right to left.\n",
        "- If the dimensions are equal, or if one array has a dimension of size 1, the operation is valid.\n",
        "\n",
        "- Expanding Dimensions:- NumPy automatically expands the smaller array by replicating its elements along the mismatched dimensions to match the larger array.\n",
        "\n",
        "*   List item\n",
        "*   List item\n",
        "\n",
        "\n",
        "\n",
        "\n",
        "\n",
        "\n"
      ],
      "metadata": {
        "id": "tZMNyjI8oOg2"
      }
    },
    {
      "cell_type": "markdown",
      "source": [
        "**3.What is a Pandas DataFrame?**\n",
        "\n",
        "ans-A Pandas DataFrame is a two-dimensional, tabular data structure provided by the Pandas library in Python. It is essentially like a spreadsheet or a SQL table and is one of the most versatile and widely used data structures for data manipulation, analysis, and cleaning.\n"
      ],
      "metadata": {
        "id": "9bGj0l3UoO6L"
      }
    },
    {
      "cell_type": "markdown",
      "source": [
        "**4.Explain the use of the groupby() method in Pandas?**\n",
        "\n",
        "ans-The groupby() method in Pandas is a powerful tool used for grouping data and performing operations on groups. It is often used for data aggregation, summarization, or transformation tasks.\n",
        "\n",
        "Key Features of groupby():\n",
        "- Grouping Data:- Splits a DataFrame (or Series) into groups based on one or more columns.\n",
        "\n",
        "- Aggregation:- You can apply aggregate functions (e.g., sum(), mean(), max()) to each group to compute summary statistics.\n",
        "\n",
        "- Transformation:- Allows you to perform custom transformations on grouped data.\n",
        "\n",
        "- Iteration:- You can iterate over each group and perform specific operations for each.\n",
        "\n",
        "\n",
        "\n",
        "\n"
      ],
      "metadata": {
        "id": "_UJcqc3poPfD"
      }
    },
    {
      "cell_type": "markdown",
      "source": [
        "**5.Why is Seaborn preferred for statistical visualizations?**\n",
        "\n",
        "ans-Seaborn is a widely preferred library for statistical visualizations in Python due to its ease of use, aesthetic appeal, and functionality tailored for statistical exploration."
      ],
      "metadata": {
        "id": "o_H_7hiCoPtz"
      }
    },
    {
      "cell_type": "markdown",
      "source": [
        "**6.What are the differences between NumPy arrays and Python lists?**\n",
        "\n",
        "ans-NumPy arrays and Python lists are both used to store collections of items, but they differ significantly in functionality, performance, and use cases. Here's a comparison:\n",
        "\n",
        "1. Performance\n",
        "- NumPy Arrays: More efficient and faster for numerical computations due to their implementation in C and optimized memory usage.\n",
        "- Python Lists: Slower because they are implemented in Python and store each element as a separate Python object, introducing overhead.\n",
        "\n",
        "\n",
        "2. Data Types\n",
        "- NumPy Arrays: Homogeneous—they store elements of the same data type (e.g., integers, floats). This enables faster operations and less memory consumption.\n",
        "- Python Lists: Heterogeneous—they can store elements of different types (e.g., integers, strings, floats) in the same list.\n",
        "\n",
        "\n",
        "3. Element-Wise Operations\n",
        "- NumPy Arrays: Support element-wise mathematical operations directly (e.g., addition, subtraction, multiplication).\n",
        "\n",
        "- Python Lists: Do not natively support element-wise operations. You'll need to use loops or comprehensions.\n",
        "\n",
        "4. Memory Efficiency\n",
        "- NumPy Arrays: Use less memory because they store elements in a contiguous block of memory with fixed data types.\n",
        "- Python Lists: Require more memory since each element is a Python object with additional overhead.\n",
        "\n",
        "\n",
        "\n",
        "\n",
        "\n",
        "\n",
        "\n",
        "\n"
      ],
      "metadata": {
        "id": "BFWpGI5doQAx"
      }
    },
    {
      "cell_type": "markdown",
      "source": [
        "**7.What is a heatmap, and when should it be used?**\n",
        "\n",
        "ans-A heatmap is a graphical representation of data in a matrix format where individual values are represented as colors. It helps you visualize patterns, variations, or relationships in the data, making it easier to identify trends, clusters, or outliers.\n",
        "\n",
        "When to Use a Heatmap\n",
        "- Correlation Analysis:- Heatmaps are widely used to visualize correlation matrices, showing relationships between different variables.\n",
        " - Example: Visualizing how strongly features in a dataset are correlated in machine learning or statistics.\n",
        "\n",
        "- Data Distribution:- They are helpful for showing the density or distribution of values in a dataset.\n",
        " - Example: Visualizing population density across a region.\n",
        "\n",
        "- Categorical Comparisons:- Heatmaps can compare two or more categories using color intensity.\n",
        " - Example: Comparing sales of different products across various regions or months.\n",
        "\n",
        "- Clustering Data:- Heatmaps are often used in hierarchical clustering to visualize patterns within data clusters.\n",
        " - Example: Analyzing gene expression levels in bioinformatics.\n",
        "\n",
        "- Highlighting Outliers:- Heatmaps can visually emphasize anomalies in the data through color differences.\n",
        " - Example: Identifying high or low-performing areas in business analytics.\n",
        "\n",
        "\n",
        "\n",
        "\n"
      ],
      "metadata": {
        "id": "GSC8cLqFoQSR"
      }
    },
    {
      "cell_type": "markdown",
      "source": [
        "**8.What does the term “vectorized operation” mean in NumPy?**\n",
        "\n",
        "ans- The term “vectorized operation” in NumPy refers to performing operations on entire arrays (or vectors) element-wise, without the need for explicit loops. It leverages NumPy's optimized internal implementations in C, resulting in faster and more efficient computations compared to traditional Python loops."
      ],
      "metadata": {
        "id": "Wuc3bS3FoRcY"
      }
    },
    {
      "cell_type": "markdown",
      "source": [
        "**9.How does Matplotlib differ from Plotly?**\n",
        "\n",
        "ans-1. Interactivity:\n",
        "- Matplotlib: Primarily designed for static plots. Although it supports limited interactivity, like zooming and panning, it's less suited for highly interactive visualizations.\n",
        "- Plotly: Known for its interactive capabilities. Plots are interactive by default, enabling features like hover tooltips, drag-to-zoom, and click events. Ideal for dashboards and web applications.\n",
        "\n",
        "\n",
        "2. Ease of Use:\n",
        "- Matplotlib: Offers detailed control over every aspect of a plot but can be more verbose and complex for beginners.\n",
        "- Plotly: Provides a simpler syntax for creating aesthetically pleasing visualizations quickly, which is more beginner-friendly.\n",
        "\n",
        "\n",
        "3. Aesthetic Appeal:\n",
        "- Matplotlib: Customization can create polished visuals, but the default plots may appear more basic compared to Plotly.\n",
        "- Plotly: Comes with modern-looking, dynamic visuals out of the box, making it ideal for presentations or web-based use.\n",
        "\n",
        "\n",
        "4. Types of Plots:\n",
        "- Matplotlib:- Focuses on fundamental chart types like line plots, bar plots, scatter plots, and histograms.\n",
        "- Requires extensions (e.g., Seaborn) for advanced plots like heatmaps or pair plots.\n",
        "\n",
        "- Plotly:- Offers a broader variety, including 3D plots, geographic maps, and time-series animations.\n",
        "\n",
        "\n",
        "\n",
        "\n"
      ],
      "metadata": {
        "id": "quDvliJToRyP"
      }
    },
    {
      "cell_type": "markdown",
      "source": [
        "**10. What is the significance of hierarchical indexing in Pandas?**\n",
        "\n",
        "ans-Significance of Hierarchical Indexing\n",
        "\n",
        "1. Handling Multi-Dimensional Data:- Allows for representing and analyzing data with multiple levels of categorization (e.g., regions, categories, time periods) in a flat 2D DataFrame.\n",
        " - Example: Sales data categorized by region, product type, and year.\n",
        "\n",
        "\n",
        "\n",
        "2. Enhanced Data Organization:- Makes it easier to organize and retrieve subsets of data by multiple levels of keys.\n",
        "\n",
        "\n",
        "\n",
        "3. Complex Grouping Operations:- Facilitates grouping by multiple dimensions and analyzing grouped data (e.g., aggregating sales by region and product).\n",
        "\n",
        "\n",
        "\n",
        "4. Concise Representation:- Hierarchical indexing allows a clean and compact representation of complex data relationships without requiring additional columns for categories.\n",
        "\n",
        "\n",
        "\n",
        "5. Ease of Indexing and Slicing:- Enables advanced indexing and slicing for data selection using multiple levels of the index, reducing the need for verbose filtering logic.\n",
        "\n",
        "\n",
        "\n",
        "\n"
      ],
      "metadata": {
        "id": "pejvmmnboSDl"
      }
    },
    {
      "cell_type": "markdown",
      "source": [
        "**11.What is the role of Seaborn’s pairplot() function?**\n",
        "\n",
        "ans-Seaborn’s pairplot() function is a versatile tool used for visualizing relationships between variables in a dataset. It automatically creates pairwise scatter plots for all numerical features, making it a great way to explore and identify patterns, correlations, or clusters within the data.\n",
        "\n",
        "Role of pairplot():\n",
        "- Pairwise Relationships:- Plots scatter plots for every pair of numerical columns in the dataset, allowing you to observe relationships and trends.\n",
        "\n",
        "- Distributions:- On the diagonal, pairplot() displays histograms or kernel density estimates (KDE), showcasing the distribution of individual variables.\n",
        "\n",
        "- Group Comparison:- When a categorical variable is provided via the hue parameter, pairplot() differentiates groups using color, making it easy to compare subsets of data.\n",
        "\n",
        "- Quick Data Exploration:- It provides a high-level overview of how variables are interrelated, offering insights before diving into detailed analysis.\n",
        "\n",
        "\n",
        "\n",
        "\n"
      ],
      "metadata": {
        "id": "9ODuhMZ8oSTt"
      }
    },
    {
      "cell_type": "markdown",
      "source": [
        "**12.What is the purpose of the describe() function in Pandas?**\n",
        "\n",
        "ans- The describe() function in Pandas is used to generate summary statistics for numerical columns in a DataFrame or Series. It provides a quick overview of the data and is commonly used during exploratory data analysis (EDA) to understand key features like central tendency, dispersion, and spread of the dataset.\n",
        "\n",
        "Purpose of describe():\n",
        "- Generate Key Statistics:- Produces statistics like count, mean, std (standard deviation), min, max, and quartiles (25%, 50%, 75%) for numerical data.\n",
        "\n",
        "- Identify Patterns:- Helps detect trends and patterns, such as skewness, outliers, or the range of values.\n",
        "\n",
        "- Compare Columns:- Useful for comparing numerical columns to understand variability across different features.\n",
        "\n",
        "- Support Decision-Making:- Provides insights for data preprocessing decisions, such as normalization, handling missing values, or selecting features for modeling.\n",
        "\n",
        "\n",
        "\n",
        "\n"
      ],
      "metadata": {
        "id": "BCoMBbHnoS20"
      }
    },
    {
      "cell_type": "markdown",
      "source": [
        "**13.Why is handling missing data important in Pandas?**\n",
        "\n",
        "ans-Handling missing data is crucial when working with datasets in Pandas because missing values can significantly affect the quality, reliability, and accuracy of data analysis or modeling. Proper handling ensures meaningful insights and prevents errors. Here's why it's important:\n",
        "\n",
        "1. Ensures Data Integrity\n",
        "Missing values can skew results or cause incorrect conclusions. For example:\n",
        " - Calculating averages or totals without addressing missing values can lead to inaccurate statistics.\n",
        "\n",
        "\n",
        "2. Prevents Errors\n",
        "Operations like mathematical calculations, aggregations, or machine learning model training can fail or produce errors if missing values are present.\n",
        "\n",
        "3. Prepares Data for Modeling\n",
        "Most machine learning models do not handle missing data well and require a complete dataset. Addressing missing values ensures compatibility and improves model performance.\n",
        "\n",
        "4. Enhances Data Representativeness\n",
        "Handling missing data ensures that the dataset accurately represents the population. For example:\n",
        " - Imputing missing values can maintain sample size, avoiding biased conclusions.\n",
        "\n",
        "\n",
        "\n"
      ],
      "metadata": {
        "id": "i7rBbxWd1Nhe"
      }
    },
    {
      "cell_type": "markdown",
      "source": [
        "**14.What are the benefits of using Plotly for data visualization?**\n",
        "\n",
        "ans-Plotly is a powerful data visualization library that offers several advantages, especially when it comes to creating interactive and visually appealing plots. Here are its key benefits:\n",
        "\n",
        "1. Interactivity\n",
        " - Plotly is known for its fully interactive plots, including features like zooming, panning, hover tooltips, and click events.\n",
        " - Interactive visualizations make it ideal for dashboards and web applications where user engagement is crucial.\n",
        "\n",
        "\n",
        "2. Versatile Chart Types\n",
        " - Supports a wide variety of chart types, ranging from basic ones (line, bar, scatter) to advanced ones (3D plots, choropleth maps, network graphs, and time-series animations).\n",
        " - This versatility makes Plotly suitable for diverse applications like geospatial analysis, scientific research, and financial data visualization.\n",
        "\n",
        "\n",
        "3. Ease of Use\n",
        " - Plotly's syntax is straightforward, enabling you to create sophisticated visualizations with minimal coding.\n",
        " - Its integration with Pandas allows for easy plotting directly from DataFrames, streamlining data visualization workflows.\n",
        "\n",
        "\n",
        "4. Aesthetic Appeal\n",
        " - Offers modern, high-quality visuals with vibrant color schemes and smooth rendering. The default appearance is polished and professional, making it ideal for presentations or client-facing dashboards.\n",
        "\n",
        "\n",
        "\n"
      ],
      "metadata": {
        "id": "H07M3_d-1uA_"
      }
    },
    {
      "cell_type": "markdown",
      "source": [
        "**15.How does NumPy handle multidimensional arrays?**\n",
        "\n",
        "ans-NumPy is designed to efficiently handle multidimensional arrays, also known as ndarrays (n-dimensional arrays). These arrays are at the core of NumPy's functionality, enabling seamless storage, manipulation, and computation for multi-dimensional data.\n"
      ],
      "metadata": {
        "id": "J_e7L4eQ2FJn"
      }
    },
    {
      "cell_type": "markdown",
      "source": [
        "**16.What is the role of Bokeh in data visualization?**\n",
        "\n",
        "ans- Bokeh is a Python library designed for creating interactive, web-ready visualizations that are both highly detailed and aesthetically appealing. Its primary role is to make complex data visualizations accessible and shareable, especially for data analysis and storytelling. Here's how it stands out:\n",
        "\n",
        "1. Roles and Benefits of Bokeh in Data Visualization\n",
        " - Interactive Plots:- Bokeh creates dynamic, interactive visualizations where users can hover, zoom, pan, or click elements to explore data in greater detail.\n",
        " - Example: Interactive dashboards for analyzing sales trends or real-time stock prices.\n",
        "\n",
        "\n",
        "\n",
        "2. Web Integration:- Bokeh outputs visualizations as HTML or JavaScript, making it ideal for embedding plots into websites or web applications.\n",
        " - Supports integration with frameworks like Flask, Django, or web-based dashboards.\n",
        "\n",
        "\n",
        "\n",
        "3. Flexibility for Complex Visualizations:- It enables the creation of a wide range of visualizations, such as line plots, bar charts, scatter plots, heatmaps, geographic maps, and network graphs.\n",
        "\n",
        "\n",
        "\n",
        "4. Big Data Handling:- Bokeh can efficiently visualize large datasets using data streaming and server-based solutions, ensuring performance with high volumes of data.\n",
        "\n",
        "\n",
        "\n",
        "5. Customizability:- Provides fine control over every aspect of a visualization, including axes, color schemes, tools, and layouts. You can tweak plots to suit specific needs.\n",
        "\n",
        "\n",
        "\n",
        "6. Ease of Use:- Bokeh's intuitive API makes it easy to build complex plots with minimal coding, while still offering advanced features for experienced developers.\n",
        "\n",
        "\n",
        "\n",
        "\n"
      ],
      "metadata": {
        "id": "iaSO9hnq2XZp"
      }
    },
    {
      "cell_type": "markdown",
      "source": [
        "**17.Explain the difference between apply() and map() in Pandas**\n",
        "\n",
        "ans-\n",
        "1. map()\n",
        " - Scope: Works only on Pandas Series (i.e., a single column or row in a DataFrame).\n",
        " - Usage: Typically applies a function element-wise to each value in a Series.\n",
        " - Input: Can take a Python function, a dictionary for value mapping, or a Series for mapping values.\n",
        "\n",
        "\n",
        "\n",
        "\n",
        "2. apply()\n",
        " - Scope: Can work on both Pandas Series and DataFrame.- For a Series, it operates element-wise, similar to map().\n",
        " - For a DataFrame, it can be used along rows or columns.\n",
        "\n",
        " - Usage: More versatile compared to map(), as it allows you to apply custom functions not just on individual elements but also across rows or columns.\n",
        " - Input: Takes a function and an optional axis parameter (for DataFrames).\n"
      ],
      "metadata": {
        "id": "29CUIq3NzvbL"
      }
    },
    {
      "cell_type": "markdown",
      "source": [
        "**18.What are some advanced features of NumPy?**\n",
        "\n",
        "ans-\n",
        "1. Broadcasting\n",
        " - Enables arithmetic operations on arrays of different shapes by expanding smaller arrays to match the shape of the larger one.\n",
        " - Avoids the need for explicit looping, making computations faster.\n",
        "\n",
        "\n",
        "\n",
        "\n",
        "2. Vectorization\n",
        " - Eliminates explicit for-loops by applying operations directly to arrays, leading to faster computations.\n",
        "\n",
        "\n",
        "\n",
        "3. Advanced Indexing and Slicing\n",
        " - Allows for selecting elements, rows, or columns using Boolean masks, integer arrays, or slice objects.\n",
        "\n",
        "\n",
        "\n",
        "\n",
        "4. Linear Algebra Functions\n",
        " - Includes operations like matrix multiplication, determinants, eigenvalues, and singular value decomposition (SVD).\n",
        "\n",
        "etc\n"
      ],
      "metadata": {
        "id": "0TaINknLzwgP"
      }
    },
    {
      "cell_type": "markdown",
      "source": [
        "**19.How does Pandas simplify time series analysis?**\n",
        "\n",
        "ans-\n",
        "1. Built-in Date/Time Handling\n",
        "- Pandas has dedicated data types (datetime64) and functions for working with dates and times.\n",
        "- Conversion to datetime objects is straightforward using pd.to_datetime().\n",
        "\n",
        "\n",
        "\n",
        "\n",
        "2. Time Indexing\n",
        "- Time series data can be indexed using datetime objects, enabling efficient filtering, slicing, and subsetting.\n",
        "\n",
        "\n",
        "\n",
        "3. Resampling and Frequency Conversion\n",
        "- Resample data to different frequencies (e.g., hourly to daily or vice versa) for aggregation or interpolation.\n",
        "\n",
        "\n",
        "\n",
        "4. Rolling and Window Operations\n",
        "- Perform calculations like moving averages or rolling sums over a defined window size.\n"
      ],
      "metadata": {
        "id": "l1FQxJ5Nzw5o"
      }
    },
    {
      "cell_type": "markdown",
      "source": [
        "**20.What is the role of a pivot table in Pandas?**\n",
        "\n",
        "ans-A pivot table in Pandas is a powerful tool for organizing, summarizing, and analyzing data in a tabular format. It helps transform long-format data into a more comprehensible structure by aggregating and grouping information based on specified criteria. Here’s how it plays a key role:\n",
        "\n",
        "1. Summarization of Data\n",
        "- A pivot table allows you to calculate aggregate metrics like sum, mean, count, etc., for a specific group in your dataset.\n",
        "\n",
        "\n",
        "\n",
        "\n",
        "2. Grouping and Aggregation\n",
        "- It groups data by one or more keys (e.g., index or columns) and applies aggregate functions, making it ideal for multi-dimensional analysis.\n",
        "\n",
        "\n",
        "3. Multi-Level Indexing\n",
        "- Pivot tables support hierarchical or multi-level indexing, enabling analysis at multiple levels of granularity.\n",
        "\n",
        "\n",
        "4. Flexible Aggregation Functions\n",
        "- You can apply custom aggregation functions (e.g., min, max, median, or even user-defined functions).\n",
        "\n",
        "\n",
        "\n"
      ],
      "metadata": {
        "id": "bALwuRwPzxK0"
      }
    },
    {
      "cell_type": "markdown",
      "source": [
        "**21.Why is NumPy’s array slicing faster than Python’s list slicing?**\n",
        "\n",
        "ans-1. Homogeneous Data\n",
        "- NumPy arrays store elements of the same data type in a contiguous block of memory. This allows for highly efficient memory access and eliminates the overhead of handling multiple data types, which is a common limitation of Python lists.\n",
        "\n",
        "\n",
        "2. Low-Level Implementation\n",
        "- NumPy is implemented in C and Fortran under the hood, enabling optimized, low-level array operations. Slicing in NumPy leverages this efficiency, while Python lists, being higher-level constructs, don’t have this optimization.\n",
        "\n",
        "\n",
        "3. Views vs Copies\n",
        "- When slicing a NumPy array, it often returns a view of the original array, not a new copy. This means no additional memory is allocated for the slice, making it faster.\n",
        "- In contrast, Python list slicing creates a new list, which involves copying data, leading to increased time and memory usage.\n",
        "\n",
        "\n",
        "4. SIMD and Vectorized Operations\n",
        "- NumPy uses vectorized operations and Single Instruction, Multiple Data (SIMD) techniques to optimize computations, including slicing. Python lists, being general-purpose, don’t benefit from these optimizations.\n",
        "\n",
        "\n",
        "5. Fixed Memory Layout\n",
        "- NumPy arrays have a fixed memory layout (contiguous memory blocks), allowing for efficient indexing and slicing using pointer arithmetic. Python lists, however, are dynamic arrays of pointers to objects, adding an extra layer of indirection.\n",
        "\n",
        "\n",
        "\n"
      ],
      "metadata": {
        "id": "FVmqxOk-zxhm"
      }
    },
    {
      "cell_type": "markdown",
      "source": [
        "**22.What are some common use cases for Seaborn?**\n",
        "\n",
        "ans-Seaborn is a highly versatile Python data visualization library that excels in creating informative and aesthetically pleasing statistical graphics. Here are some common use cases where Seaborn shines:\n",
        "\n",
        "1. Exploratory Data Analysis (EDA)\n",
        "- Seaborn helps identify patterns, trends, and relationships within datasets through intuitive and visually appealing plots.\n",
        "- Example: Pair plots (sns.pairplot()) to visualize relationships between multiple variables at once.\n",
        "\n",
        "\n",
        "2. Visualizing Distributions\n",
        "- Analyze the distribution of single variables or compare distributions across categories.\n",
        "- Example:- sns.histplot(): Histograms.\n",
        "- sns.kdeplot(): Kernel density estimation (smooth curves).\n",
        "- sns.boxplot(): Box-and-whisker plots for summary statistics.\n",
        "\n",
        "\n",
        "\n",
        "3. Relationship Analysis\n",
        "- Seaborn makes it simple to visualize relationships between two variables while including additional dimensions through color, size, or shape.\n",
        "- Example:- sns.scatterplot(): Visualize relationships between numerical variables.\n",
        "- sns.lineplot(): Explore trends over time or continuous variables.\n",
        "\n",
        "\n",
        "\n",
        "4. Categorical Data Visualization\n",
        "- Analyze and compare data across categories.\n",
        "- Example:- sns.barplot(): Aggregate values by category.\n",
        "- sns.stripplot() and sns.swarmplot(): Visualize individual data points while preserving category relationships.\n",
        "\n",
        "\n",
        "\n",
        "\n",
        "etc"
      ],
      "metadata": {
        "id": "d1dTQZI719uN"
      }
    },
    {
      "cell_type": "markdown",
      "source": [
        "# Practical Questions"
      ],
      "metadata": {
        "id": "m3C_-LfX2QQJ"
      }
    },
    {
      "cell_type": "markdown",
      "source": [
        "**1.How do you create a 2D NumPy array and calculate the sum of each row**"
      ],
      "metadata": {
        "id": "UZMTlaYZB7mJ"
      }
    },
    {
      "cell_type": "code",
      "source": [
        "import numpy as np\n",
        "\n",
        "# Creating a 2D NumPy array\n",
        "array_2d = np.array([[1,2,3],\n",
        "                     [4,5,6],\n",
        "                     [7,8,9]])\n",
        "\n",
        "\n",
        "# Calculating the sum of each row\n",
        "row_sum = np.sum(array_2d,axis=1)\n",
        "\n",
        "print(\"2D array:\")\n",
        "print(array_2d)\n",
        "print(f\"Sum of each row: {row_sum}\")\n"
      ],
      "metadata": {
        "id": "ezI7MVuJ2Pbz",
        "colab": {
          "base_uri": "https://localhost:8080/"
        },
        "outputId": "f90797c4-08ea-4b4e-bf42-f48756cc230d"
      },
      "execution_count": null,
      "outputs": [
        {
          "output_type": "stream",
          "name": "stdout",
          "text": [
            "2D array:\n",
            "[[1 2 3]\n",
            " [4 5 6]\n",
            " [7 8 9]]\n",
            "Sum of each row: [ 6 15 24]\n"
          ]
        }
      ]
    },
    {
      "cell_type": "markdown",
      "source": [
        "**2.Write a Pandas script to find the mean of a specific column in a DataFrame**"
      ],
      "metadata": {
        "id": "EKhS71lKnUaG"
      }
    },
    {
      "cell_type": "code",
      "source": [
        "import pandas as pd\n",
        "\n",
        "# Sample DataFrame\n",
        "data = {\n",
        "    'Name': ['Alice', 'Bob', 'Charlie'],\n",
        "    'Age': [25, 30, 35],\n",
        "    'Score': [80, 90, 85]\n",
        "}\n",
        "\n",
        "df = pd.DataFrame(data)\n",
        "\n",
        "# Find the mean of the 'Score' column\n",
        "mean_score = df['Score'].mean()\n",
        "\n",
        "print(f\"The mean of the 'Score' column is: {mean_score}\")"
      ],
      "metadata": {
        "colab": {
          "base_uri": "https://localhost:8080/"
        },
        "id": "Wn3Hh4IKnUC3",
        "outputId": "c5abbfd8-8920-422b-b996-5702cf7d2598"
      },
      "execution_count": 1,
      "outputs": [
        {
          "output_type": "stream",
          "name": "stdout",
          "text": [
            "The mean of the 'Score' column is: 85.0\n"
          ]
        }
      ]
    },
    {
      "cell_type": "markdown",
      "source": [
        "**3.Create a scatter plot using Matplotlib.**"
      ],
      "metadata": {
        "id": "PV0AOU0bnUyP"
      }
    },
    {
      "cell_type": "code",
      "source": [
        "import matplotlib.pyplot as plt\n",
        "\n",
        "# data\n",
        "x = [1, 2, 3, 4, 5]  # x-coordinates\n",
        "y = [2, 4, 1, 8, 7]  # y-coordinates\n",
        "\n",
        "# Create scatter plot\n",
        "plt.scatter(x, y, color='blue', label='Data Points')\n",
        "\n",
        "# Add labels and title\n",
        "plt.xlabel('X-axis')\n",
        "plt.ylabel('Y-axis')\n",
        "plt.title('Scatter Plot Example')\n",
        "\n",
        "# Add a legend\n",
        "plt.legend()\n",
        "\n",
        "# Display the plot\n",
        "plt.show()"
      ],
      "metadata": {
        "id": "3Dafvu4TB6xG",
        "colab": {
          "base_uri": "https://localhost:8080/",
          "height": 472
        },
        "outputId": "dda9cdd2-a63e-4658-b16d-3fd1e07280eb"
      },
      "execution_count": 2,
      "outputs": [
        {
          "output_type": "display_data",
          "data": {
            "text/plain": [
              "<Figure size 640x480 with 1 Axes>"
            ],
            "image/png": "[encoded data removed]"
          },
          "metadata": {}
        }
      ]
    },
    {
      "cell_type": "markdown",
      "source": [
        "****"
      ],
      "metadata": {
        "id": "4CWbj5L4qrYo"
      }
    },
    {
      "cell_type": "markdown",
      "source": [
        "**4. How do you calculate the correlation matrix using Seaborn and visualize it with a heatmap**"
      ],
      "metadata": {
        "id": "VkiSmCklsJhO"
      }
    },
    {
      "cell_type": "code",
      "source": [
        "import pandas as pd\n",
        "import seaborn as sns\n",
        "import matplotlib.pyplot as plt\n",
        "\n",
        "# DataFrame\n",
        "data = {\n",
        "    'A': [1, 2, 3, 4, 5],\n",
        "    'B': [2, 4, 6, 8, 10],\n",
        "    'C': [5, 3, 4, 2, 1]\n",
        "}\n",
        "df = pd.DataFrame(data)\n",
        "\n",
        "# Calculate the correlation matrix\n",
        "correlation_matrix = df.corr()\n",
        "\n",
        "# Visualize the correlation matrix using Seaborn heatmap\n",
        "sns.heatmap(correlation_matrix, annot=True, cmap='coolwarm')\n",
        "\n",
        "# title\n",
        "plt.title('Correlation Matrix Heatmap')\n",
        "\n",
        "# Display the heatmap\n",
        "plt.show()"
      ],
      "metadata": {
        "colab": {
          "base_uri": "https://localhost:8080/",
          "height": 452
        },
        "id": "pvO82WIaqk4G",
        "outputId": "67896b1e-c8a6-4530-9949-bd9f2cd7c08b"
      },
      "execution_count": 3,
      "outputs": [
        {
          "output_type": "display_data",
          "data": {
            "text/plain": [
              "<Figure size 640x480 with 2 Axes>"
            ],
            "image/png": "[encoded data removed]"
          },
          "metadata": {}
        }
      ]
    },
    {
      "cell_type": "markdown",
      "source": [
        "**5.Generate a bar plot using Plotly**"
      ],
      "metadata": {
        "id": "OJh8tIctsN6N"
      }
    },
    {
      "cell_type": "code",
      "source": [
        "import plotly.graph_objects as go\n",
        "\n",
        "# Sample data\n",
        "categories = ['Category A', 'Category B', 'Category C', 'Category D']\n",
        "values = [10, 15, 7, 20]\n",
        "\n",
        "# Create a bar plot\n",
        "fig = go.Figure(\n",
        "    data=[go.Bar(x=categories, y=values, marker_color='BLUE')]\n",
        ")\n",
        "\n",
        "# Customize the layout\n",
        "fig.update_layout(\n",
        "    title='Bar Plot Example',\n",
        "    xaxis_title='Categories',\n",
        "    yaxis_title='Values',\n",
        "    template='plotly_white'\n",
        ")\n",
        "\n",
        "# Show the plot\n",
        "fig.show()"
      ],
      "metadata": {
        "colab": {
          "base_uri": "https://localhost:8080/",
          "height": 542
        },
        "id": "WoyTRaV6sHKR",
        "outputId": "8cf0ab30-be6e-4169-d413-6f513b1751ca"
      },
      "execution_count": 13,
      "outputs": [
        {
          "output_type": "display_data",
          "data": {
            "text/html": [
              "<html>\n",
              "<head><meta charset=\"utf-8\" /></head>\n",
              "<body>\n",
              "    <div>            <script src=\"https://cdnjs.cloudflare.com/ajax/libs/mathjax/2.7.5/MathJax.js?config=TeX-AMS-MML_SVG\"></script><script type=\"text/javascript\">if (window.MathJax && window.MathJax.Hub && window.MathJax.Hub.Config) {window.MathJax.Hub.Config({SVG: {font: \"STIX-Web\"}});}</script>                <script type=\"text/javascript\">window.PlotlyConfig = {MathJaxConfig: 'local'};</script>\n",
              "        <script charset=\"utf-8\" src=\"https://cdn.plot.ly/plotly-2.35.2.min.js\"></script>                <div id=\"c85f6df7-a6e0-4cb8-8a7b-6009fcebf80b\" class=\"plotly-graph-div\" style=\"height:525px; width:100%;\"></div>            <script type=\"text/javascript\">                                    window.PLOTLYENV=window.PLOTLYENV || {};                                    if (document.getElementById(\"c85f6df7-a6e0-4cb8-8a7b-6009fcebf80b\")) {                    Plotly.newPlot(                        \"c85f6df7-a6e0-4cb8-8a7b-6009fcebf80b\",                        [{\"marker\":{\"color\":\"BLUE\"},\"x\":[\"Category A\",\"Category B\",\"Category C\",\"Category D\"],\"y\":[10,15,7,20],\"type\":\"bar\"}],                        {\"template\":{\"data\":{\"barpolar\":[{\"marker\":{\"line\":{\"color\":\"white\",\"width\":0.5},\"pattern\":{\"fillmode\":\"overlay\",\"size\":10,\"solidity\":0.2}},\"type\":\"barpolar\"}],\"bar\":[{\"error_x\":{\"color\":\"#2a3f5f\"},\"error_y\":{\"color\":\"#2a3f5f\"},\"marker\":{\"line\":{\"color\":\"white\",\"width\":0.5},\"pattern\":{\"fillmode\":\"overlay\",\"size\":10,\"solidity\":0.2}},\"type\":\"bar\"}],\"carpet\":[{\"aaxis\":{\"endlinecolor\":\"#2a3f5f\",\"gridcolor\":\"#C8D4E3\",\"linecolor\":\"#C8D4E3\",\"minorgridcolor\":\"#C8D4E3\",\"startlinecolor\":\"#2a3f5f\"},\"baxis\":{\"endlinecolor\":\"#2a3f5f\",\"gridcolor\":\"#C8D4E3\",\"linecolor\":\"#C8D4E3\",\"minorgridcolor\":\"#C8D4E3\",\"startlinecolor\":\"#2a3f5f\"},\"type\":\"carpet\"}],\"choropleth\":[{\"colorbar\":{\"outlinewidth\":0,\"ticks\":\"\"},\"type\":\"choropleth\"}],\"contourcarpet\":[{\"colorbar\":{\"outlinewidth\":0,\"ticks\":\"\"},\"type\":\"contourcarpet\"}],\"contour\":[{\"colorbar\":{\"outlinewidth\":0,\"ticks\":\"\"},\"colorscale\":[[0.0,\"#0d0887\"],[0.1111111111111111,\"#46039f\"],[0.2222222222222222,\"#7201a8\"],[0.3333333333333333,\"#9c179e\"],[0.4444444444444444,\"#bd3786\"],[0.5555555555555556,\"#d8576b\"],[0.6666666666666666,\"#ed7953\"],[0.7777777777777778,\"#fb9f3a\"],[0.8888888888888888,\"#fdca26\"],[1.0,\"#f0f921\"]],\"type\":\"contour\"}],\"heatmapgl\":[{\"colorbar\":{\"outlinewidth\":0,\"ticks\":\"\"},\"colorscale\":[[0.0,\"#0d0887\"],[0.1111111111111111,\"#46039f\"],[0.2222222222222222,\"#7201a8\"],[0.3333333333333333,\"#9c179e\"],[0.4444444444444444,\"#bd3786\"],[0.5555555555555556,\"#d8576b\"],[0.6666666666666666,\"#ed7953\"],[0.7777777777777778,\"#fb9f3a\"],[0.8888888888888888,\"#fdca26\"],[1.0,\"#f0f921\"]],\"type\":\"heatmapgl\"}],\"heatmap\":[{\"colorbar\":{\"outlinewidth\":0,\"ticks\":\"\"},\"colorscale\":[[0.0,\"#0d0887\"],[0.1111111111111111,\"#46039f\"],[0.2222222222222222,\"#7201a8\"],[0.3333333333333333,\"#9c179e\"],[0.4444444444444444,\"#bd3786\"],[0.5555555555555556,\"#d8576b\"],[0.6666666666666666,\"#ed7953\"],[0.7777777777777778,\"#fb9f3a\"],[0.8888888888888888,\"#fdca26\"],[1.0,\"#f0f921\"]],\"type\":\"heatmap\"}],\"histogram2dcontour\":[{\"colorbar\":{\"outlinewidth\":0,\"ticks\":\"\"},\"colorscale\":[[0.0,\"#0d0887\"],[0.1111111111111111,\"#46039f\"],[0.2222222222222222,\"#7201a8\"],[0.3333333333333333,\"#9c179e\"],[0.4444444444444444,\"#bd3786\"],[0.5555555555555556,\"#d8576b\"],[0.6666666666666666,\"#ed7953\"],[0.7777777777777778,\"#fb9f3a\"],[0.8888888888888888,\"#fdca26\"],[1.0,\"#f0f921\"]],\"type\":\"histogram2dcontour\"}],\"histogram2d\":[{\"colorbar\":{\"outlinewidth\":0,\"ticks\":\"\"},\"colorscale\":[[0.0,\"#0d0887\"],[0.1111111111111111,\"#46039f\"],[0.2222222222222222,\"#7201a8\"],[0.3333333333333333,\"#9c179e\"],[0.4444444444444444,\"#bd3786\"],[0.5555555555555556,\"#d8576b\"],[0.6666666666666666,\"#ed7953\"],[0.7777777777777778,\"#fb9f3a\"],[0.8888888888888888,\"#fdca26\"],[1.0,\"#f0f921\"]],\"type\":\"histogram2d\"}],\"histogram\":[{\"marker\":{\"pattern\":{\"fillmode\":\"overlay\",\"size\":10,\"solidity\":0.2}},\"type\":\"histogram\"}],\"mesh3d\":[{\"colorbar\":{\"outlinewidth\":0,\"ticks\":\"\"},\"type\":\"mesh3d\"}],\"parcoords\":[{\"line\":{\"colorbar\":{\"outlinewidth\":0,\"ticks\":\"\"}},\"type\":\"parcoords\"}],\"pie\":[{\"automargin\":true,\"type\":\"pie\"}],\"scatter3d\":[{\"line\":{\"colorbar\":{\"outlinewidth\":0,\"ticks\":\"\"}},\"marker\":{\"colorbar\":{\"outlinewidth\":0,\"ticks\":\"\"}},\"type\":\"scatter3d\"}],\"scattercarpet\":[{\"marker\":{\"colorbar\":{\"outlinewidth\":0,\"ticks\":\"\"}},\"type\":\"scattercarpet\"}],\"scattergeo\":[{\"marker\":{\"colorbar\":{\"outlinewidth\":0,\"ticks\":\"\"}},\"type\":\"scattergeo\"}],\"scattergl\":[{\"marker\":{\"colorbar\":{\"outlinewidth\":0,\"ticks\":\"\"}},\"type\":\"scattergl\"}],\"scattermapbox\":[{\"marker\":{\"colorbar\":{\"outlinewidth\":0,\"ticks\":\"\"}},\"type\":\"scattermapbox\"}],\"scatterpolargl\":[{\"marker\":{\"colorbar\":{\"outlinewidth\":0,\"ticks\":\"\"}},\"type\":\"scatterpolargl\"}],\"scatterpolar\":[{\"marker\":{\"colorbar\":{\"outlinewidth\":0,\"ticks\":\"\"}},\"type\":\"scatterpolar\"}],\"scatter\":[{\"fillpattern\":{\"fillmode\":\"overlay\",\"size\":10,\"solidity\":0.2},\"type\":\"scatter\"}],\"scatterternary\":[{\"marker\":{\"colorbar\":{\"outlinewidth\":0,\"ticks\":\"\"}},\"type\":\"scatterternary\"}],\"surface\":[{\"colorbar\":{\"outlinewidth\":0,\"ticks\":\"\"},\"colorscale\":[[0.0,\"#0d0887\"],[0.1111111111111111,\"#46039f\"],[0.2222222222222222,\"#7201a8\"],[0.3333333333333333,\"#9c179e\"],[0.4444444444444444,\"#bd3786\"],[0.5555555555555556,\"#d8576b\"],[0.6666666666666666,\"#ed7953\"],[0.7777777777777778,\"#fb9f3a\"],[0.8888888888888888,\"#fdca26\"],[1.0,\"#f0f921\"]],\"type\":\"surface\"}],\"table\":[{\"cells\":{\"fill\":{\"color\":\"#EBF0F8\"},\"line\":{\"color\":\"white\"}},\"header\":{\"fill\":{\"color\":\"#C8D4E3\"},\"line\":{\"color\":\"white\"}},\"type\":\"table\"}]},\"layout\":{\"annotationdefaults\":{\"arrowcolor\":\"#2a3f5f\",\"arrowhead\":0,\"arrowwidth\":1},\"autotypenumbers\":\"strict\",\"coloraxis\":{\"colorbar\":{\"outlinewidth\":0,\"ticks\":\"\"}},\"colorscale\":{\"diverging\":[[0,\"#8e0152\"],[0.1,\"#c51b7d\"],[0.2,\"#de77ae\"],[0.3,\"#f1b6da\"],[0.4,\"#fde0ef\"],[0.5,\"#f7f7f7\"],[0.6,\"#e6f5d0\"],[0.7,\"#b8e186\"],[0.8,\"#7fbc41\"],[0.9,\"#4d9221\"],[1,\"#276419\"]],\"sequential\":[[0.0,\"#0d0887\"],[0.1111111111111111,\"#46039f\"],[0.2222222222222222,\"#7201a8\"],[0.3333333333333333,\"#9c179e\"],[0.4444444444444444,\"#bd3786\"],[0.5555555555555556,\"#d8576b\"],[0.6666666666666666,\"#ed7953\"],[0.7777777777777778,\"#fb9f3a\"],[0.8888888888888888,\"#fdca26\"],[1.0,\"#f0f921\"]],\"sequentialminus\":[[0.0,\"#0d0887\"],[0.1111111111111111,\"#46039f\"],[0.2222222222222222,\"#7201a8\"],[0.3333333333333333,\"#9c179e\"],[0.4444444444444444,\"#bd3786\"],[0.5555555555555556,\"#d8576b\"],[0.6666666666666666,\"#ed7953\"],[0.7777777777777778,\"#fb9f3a\"],[0.8888888888888888,\"#fdca26\"],[1.0,\"#f0f921\"]]},\"colorway\":[\"#636efa\",\"#EF553B\",\"#00cc96\",\"#ab63fa\",\"#FFA15A\",\"#19d3f3\",\"#FF6692\",\"#B6E880\",\"#FF97FF\",\"#FECB52\"],\"font\":{\"color\":\"#2a3f5f\"},\"geo\":{\"bgcolor\":\"white\",\"lakecolor\":\"white\",\"landcolor\":\"white\",\"showlakes\":true,\"showland\":true,\"subunitcolor\":\"#C8D4E3\"},\"hoverlabel\":{\"align\":\"left\"},\"hovermode\":\"closest\",\"mapbox\":{\"style\":\"light\"},\"paper_bgcolor\":\"white\",\"plot_bgcolor\":\"white\",\"polar\":{\"angularaxis\":{\"gridcolor\":\"#EBF0F8\",\"linecolor\":\"#EBF0F8\",\"ticks\":\"\"},\"bgcolor\":\"white\",\"radialaxis\":{\"gridcolor\":\"#EBF0F8\",\"linecolor\":\"#EBF0F8\",\"ticks\":\"\"}},\"scene\":{\"xaxis\":{\"backgroundcolor\":\"white\",\"gridcolor\":\"#DFE8F3\",\"gridwidth\":2,\"linecolor\":\"#EBF0F8\",\"showbackground\":true,\"ticks\":\"\",\"zerolinecolor\":\"#EBF0F8\"},\"yaxis\":{\"backgroundcolor\":\"white\",\"gridcolor\":\"#DFE8F3\",\"gridwidth\":2,\"linecolor\":\"#EBF0F8\",\"showbackground\":true,\"ticks\":\"\",\"zerolinecolor\":\"#EBF0F8\"},\"zaxis\":{\"backgroundcolor\":\"white\",\"gridcolor\":\"#DFE8F3\",\"gridwidth\":2,\"linecolor\":\"#EBF0F8\",\"showbackground\":true,\"ticks\":\"\",\"zerolinecolor\":\"#EBF0F8\"}},\"shapedefaults\":{\"line\":{\"color\":\"#2a3f5f\"}},\"ternary\":{\"aaxis\":{\"gridcolor\":\"#DFE8F3\",\"linecolor\":\"#A2B1C6\",\"ticks\":\"\"},\"baxis\":{\"gridcolor\":\"#DFE8F3\",\"linecolor\":\"#A2B1C6\",\"ticks\":\"\"},\"bgcolor\":\"white\",\"caxis\":{\"gridcolor\":\"#DFE8F3\",\"linecolor\":\"#A2B1C6\",\"ticks\":\"\"}},\"title\":{\"x\":0.05},\"xaxis\":{\"automargin\":true,\"gridcolor\":\"#EBF0F8\",\"linecolor\":\"#EBF0F8\",\"ticks\":\"\",\"title\":{\"standoff\":15},\"zerolinecolor\":\"#EBF0F8\",\"zerolinewidth\":2},\"yaxis\":{\"automargin\":true,\"gridcolor\":\"#EBF0F8\",\"linecolor\":\"#EBF0F8\",\"ticks\":\"\",\"title\":{\"standoff\":15},\"zerolinecolor\":\"#EBF0F8\",\"zerolinewidth\":2}}},\"title\":{\"text\":\"Bar Plot Example\"},\"xaxis\":{\"title\":{\"text\":\"Categories\"}},\"yaxis\":{\"title\":{\"text\":\"Values\"}}},                        {\"responsive\": true}                    ).then(function(){\n",
              "                            \n",
              "var gd = document.getElementById('c85f6df7-a6e0-4cb8-8a7b-6009fcebf80b');\n",
              "var x = new MutationObserver(function (mutations, observer) {{\n",
              "        var display = window.getComputedStyle(gd).display;\n",
              "        if (!display || display === 'none') {{\n",
              "            console.log([gd, 'removed!']);\n",
              "            Plotly.purge(gd);\n",
              "            observer.disconnect();\n",
              "        }}\n",
              "}});\n",
              "\n",
              "// Listen for the removal of the full notebook cells\n",
              "var notebookContainer = gd.closest('#notebook-container');\n",
              "if (notebookContainer) {{\n",
              "    x.observe(notebookContainer, {childList: true});\n",
              "}}\n",
              "\n",
              "// Listen for the clearing of the current output cell\n",
              "var outputEl = gd.closest('.output');\n",
              "if (outputEl) {{\n",
              "    x.observe(outputEl, {childList: true});\n",
              "}}\n",
              "\n",
              "                        })                };                            </script>        </div>\n",
              "</body>\n",
              "</html>"
            ]
          },
          "metadata": {}
        }
      ]
    },
    {
      "cell_type": "markdown",
      "source": [
        "**6.Create a DataFrame and add a new column based on an existing column**"
      ],
      "metadata": {
        "id": "Shm95CKpuyVc"
      }
    },
    {
      "cell_type": "code",
      "source": [
        "import pandas as pd\n",
        "\n",
        "# Create a DataFrame\n",
        "data = {\n",
        "    'Name': ['Alice', 'Bob', 'Charlie'],\n",
        "    'Age': [25, 30, 35]\n",
        "}\n",
        "\n",
        "df = pd.DataFrame(data)\n",
        "\n",
        "# Add a new column based on an existing column\n",
        "df['Age Group'] = df['Age'].apply(lambda age: 'Young' if age < 30 else 'Adult')\n",
        "\n",
        "print(df)"
      ],
      "metadata": {
        "colab": {
          "base_uri": "https://localhost:8080/"
        },
        "id": "aEer9p21t9Hf",
        "outputId": "912a26a1-3282-4c0a-8654-0274fc279ec8"
      },
      "execution_count": 5,
      "outputs": [
        {
          "output_type": "stream",
          "name": "stdout",
          "text": [
            "      Name  Age Age Group\n",
            "0    Alice   25     Young\n",
            "1      Bob   30     Adult\n",
            "2  Charlie   35     Adult\n"
          ]
        }
      ]
    },
    {
      "cell_type": "markdown",
      "source": [
        "**7.Write a program to perform element-wise multiplication of two NumPy arrays**"
      ],
      "metadata": {
        "id": "AXuIKss-vMXM"
      }
    },
    {
      "cell_type": "code",
      "source": [
        "import numpy as np\n",
        "\n",
        "# Define two sample NumPy arrays\n",
        "array1 = np.array([1, 2, 3, 4])\n",
        "array2 = np.array([5, 6, 7, 8])\n",
        "\n",
        "# Perform element-wise multiplication\n",
        "result = np.multiply(array1, array2)\n",
        "\n",
        "# Display the result\n",
        "print(\"Array 1:\", array1)\n",
        "print(\"Array 2:\", array2)\n",
        "print(\"Result of element-wise multiplication:\", result)"
      ],
      "metadata": {
        "colab": {
          "base_uri": "https://localhost:8080/"
        },
        "id": "Ovf4Q2hWvMs7",
        "outputId": "cb161d00-116f-4b7e-db1f-ed5a816352db"
      },
      "execution_count": 7,
      "outputs": [
        {
          "output_type": "stream",
          "name": "stdout",
          "text": [
            "Array 1: [1 2 3 4]\n",
            "Array 2: [5 6 7 8]\n",
            "Result of element-wise multiplication: [ 5 12 21 32]\n"
          ]
        }
      ]
    },
    {
      "cell_type": "markdown",
      "source": [
        " **8.Create a line plot with multiple lines using Matplotlib**"
      ],
      "metadata": {
        "id": "WcuXbfSkvkDY"
      }
    },
    {
      "cell_type": "code",
      "source": [
        "import matplotlib.pyplot as plt\n",
        "\n",
        "# Sample data\n",
        "x = [0, 1, 2, 3, 4, 5]\n",
        "y1 = [0, 1, 4, 9, 16, 25]  # Line 1: Quadratic growth\n",
        "y2 = [25, 16, 9, 4, 1, 0]  # Line 2: Quadratic decay\n",
        "\n",
        "# Create the plot\n",
        "plt.plot(x, y1, label='Quadratic Growth', color='blue', linestyle='-', marker='o')\n",
        "plt.plot(x, y2, label='Quadratic Decay', color='red', linestyle='--', marker='x')\n",
        "\n",
        "# Add labels, title, and legend\n",
        "plt.xlabel('X-axis')\n",
        "plt.ylabel('Y-axis')\n",
        "plt.title('Line Plot with Multiple Lines')\n",
        "plt.legend()\n",
        "\n",
        "# Show the plot\n",
        "plt.show()"
      ],
      "metadata": {
        "colab": {
          "base_uri": "https://localhost:8080/",
          "height": 472
        },
        "id": "7nuGUYIjvkh9",
        "outputId": "6594832f-a148-4c12-ed0f-6061839597a4"
      },
      "execution_count": 8,
      "outputs": [
        {
          "output_type": "display_data",
          "data": {
            "text/plain": [
              "<Figure size 640x480 with 1 Axes>"
            ],
            "image/png": "[encoded data removed]"
          },
          "metadata": {}
        }
      ]
    },
    {
      "cell_type": "markdown",
      "source": [
        "**9.Generate a Pandas DataFrame and filter rows where a column value is greater than a threshold**"
      ],
      "metadata": {
        "id": "hyqiLf5JwIWB"
      }
    },
    {
      "cell_type": "code",
      "source": [
        "import pandas as pd\n",
        "\n",
        "# Create a sample DataFrame\n",
        "data = {\n",
        "    'Name': ['Alice', 'Bob', 'Charlie', 'David'],\n",
        "    'Age': [25, 30, 35, 28],\n",
        "    'Score': [80, 90, 85, 70]\n",
        "}\n",
        "\n",
        "df = pd.DataFrame(data)\n",
        "\n",
        "# Define the threshold for filtering\n",
        "threshold = 80\n",
        "\n",
        "# Filter rows where the 'Score' column value is greater than the threshold\n",
        "filtered_df = df[df['Score'] > threshold]\n",
        "\n",
        "# Display the filtered DataFrame\n",
        "print(\"Original DataFrame:\")\n",
        "print(df)\n",
        "\n",
        "print(\"\\nFiltered DataFrame (Score > 80):\")\n",
        "print(filtered_df)"
      ],
      "metadata": {
        "colab": {
          "base_uri": "https://localhost:8080/"
        },
        "id": "A32uFIXAwGCT",
        "outputId": "220ebeba-1a63-4602-9a8f-c935a0e26538"
      },
      "execution_count": 10,
      "outputs": [
        {
          "output_type": "stream",
          "name": "stdout",
          "text": [
            "Original DataFrame:\n",
            "      Name  Age  Score\n",
            "0    Alice   25     80\n",
            "1      Bob   30     90\n",
            "2  Charlie   35     85\n",
            "3    David   28     70\n",
            "\n",
            "Filtered DataFrame (Score > 80):\n",
            "      Name  Age  Score\n",
            "1      Bob   30     90\n",
            "2  Charlie   35     85\n"
          ]
        }
      ]
    },
    {
      "cell_type": "markdown",
      "source": [
        "**10.Create a histogram using Seaborn to visualize a distribution**"
      ],
      "metadata": {
        "id": "CCiIvfBUxUY6"
      }
    },
    {
      "cell_type": "code",
      "source": [
        "import seaborn as sns\n",
        "import matplotlib.pyplot as plt\n",
        "\n",
        "#  data\n",
        "data = [12, 15, 14, 10, 18, 21, 17, 12, 16, 19, 24, 22, 18, 13, 16, 20]\n",
        "\n",
        "# Create the histogram\n",
        "sns.histplot(data, bins=8, kde=True, color='ORANGE')\n",
        "\n",
        "# Add labels and title\n",
        "plt.xlabel('Value')\n",
        "plt.ylabel('Frequency')\n",
        "plt.title('Histogram of Data Distribution')\n",
        "\n",
        "# Display the plot\n",
        "plt.show()"
      ],
      "metadata": {
        "colab": {
          "base_uri": "https://localhost:8080/",
          "height": 472
        },
        "id": "RLPGnp_6xFam",
        "outputId": "43ae99f7-d049-4f70-9dec-bed3086ea95b"
      },
      "execution_count": 11,
      "outputs": [
        {
          "output_type": "display_data",
          "data": {
            "text/plain": [
              "<Figure size 640x480 with 1 Axes>"
            ],
            "image/png": "[encoded data removed]"
          },
          "metadata": {}
        }
      ]
    },
    {
      "cell_type": "markdown",
      "source": [
        "**11.Perform matrix multiplication using NumPy**"
      ],
      "metadata": {
        "id": "m-AOVQIFy0RV"
      }
    },
    {
      "cell_type": "code",
      "source": [
        "import numpy as np\n",
        "\n",
        "# Define two matrices\n",
        "matrix1 = np.array([[1, 2],\n",
        "                    [3, 4]])\n",
        "\n",
        "matrix2 = np.array([[5, 6],\n",
        "                    [7, 8]])\n",
        "\n",
        "# Perform matrix multiplication\n",
        "result = np.dot(matrix1, matrix2)\n",
        "\n",
        "# Display the result\n",
        "print(\"Matrix 1:\")\n",
        "print(matrix1)\n",
        "\n",
        "print(\"\\nMatrix 2:\")\n",
        "print(matrix2)\n",
        "\n",
        "print(\"\\nResult of Matrix Multiplication:\")\n",
        "print(result)"
      ],
      "metadata": {
        "colab": {
          "base_uri": "https://localhost:8080/"
        },
        "id": "zQ8x-1wLySaR",
        "outputId": "2e34521e-3ed4-42fc-a67f-638394ac3fd0"
      },
      "execution_count": 12,
      "outputs": [
        {
          "output_type": "stream",
          "name": "stdout",
          "text": [
            "Matrix 1:\n",
            "[[1 2]\n",
            " [3 4]]\n",
            "\n",
            "Matrix 2:\n",
            "[[5 6]\n",
            " [7 8]]\n",
            "\n",
            "Result of Matrix Multiplication:\n",
            "[[19 22]\n",
            " [43 50]]\n"
          ]
        }
      ]
    },
    {
      "cell_type": "markdown",
      "source": [
        "**12.Use Pandas to load a CSV file and display its first 5 rows**"
      ],
      "metadata": {
        "id": "Uahx9lY5z67I"
      }
    },
    {
      "cell_type": "code",
      "source": [
        "import pandas as pd\n",
        "\n",
        "# Load the CSV file\n",
        "file_path = 'my_file.csv'\n",
        "df = pd.read_csv(file_path)\n",
        "\n",
        "# Display the first 5 rows\n",
        "print(\"First 5 rows of the DataFrame:\")\n",
        "print(df.head())"
      ],
      "metadata": {
        "id": "Qrh7wap3zwxe"
      },
      "execution_count": null,
      "outputs": []
    },
    {
      "cell_type": "markdown",
      "source": [
        "**13.Create a 3D scatter plot using Plotly**"
      ],
      "metadata": {
        "id": "4N9ck1MD05MT"
      }
    },
    {
      "cell_type": "code",
      "source": [
        "import plotly.graph_objects as go\n",
        "\n",
        "# data\n",
        "x = [1, 2, 3, 4, 5]\n",
        "y = [10, 20, 30, 40, 50]\n",
        "z = [100, 200, 300, 400, 500]\n",
        "\n",
        "# Create the 3D scatter plot\n",
        "fig = go.Figure(\n",
        "    data=[go.Scatter3d(\n",
        "        x=x, y=y, z=z,\n",
        "        mode='markers',\n",
        "        marker=dict(size=8, color=z, colorscale='Viridis', opacity=0.8)\n",
        "    )]\n",
        ")\n",
        "\n",
        "# Customize the layout\n",
        "fig.update_layout(\n",
        "    title='3D Scatter Plot Example',\n",
        "    scene=dict(\n",
        "        xaxis_title='X-axis',\n",
        "        yaxis_title='Y-axis',\n",
        "        zaxis_title='Z-axis'\n",
        "    )\n",
        ")\n",
        "\n",
        "# Display the plot\n",
        "fig.show()"
      ],
      "metadata": {
        "colab": {
          "base_uri": "https://localhost:8080/",
          "height": 542
        },
        "id": "tP7LSAJH1BCr",
        "outputId": "11ae4ba1-5119-42c8-b800-cc6f989d889c"
      },
      "execution_count": 14,
      "outputs": [
        {
          "output_type": "display_data",
          "data": {
            "text/html": [
              "<html>\n",
              "<head><meta charset=\"utf-8\" /></head>\n",
              "<body>\n",
              "    <div>            <script src=\"https://cdnjs.cloudflare.com/ajax/libs/mathjax/2.7.5/MathJax.js?config=TeX-AMS-MML_SVG\"></script><script type=\"text/javascript\">if (window.MathJax && window.MathJax.Hub && window.MathJax.Hub.Config) {window.MathJax.Hub.Config({SVG: {font: \"STIX-Web\"}});}</script>                <script type=\"text/javascript\">window.PlotlyConfig = {MathJaxConfig: 'local'};</script>\n",
              "        <script charset=\"utf-8\" src=\"https://cdn.plot.ly/plotly-2.35.2.min.js\"></script>                <div id=\"02816a15-67bb-4cc8-bff6-949f1c77e7f3\" class=\"plotly-graph-div\" style=\"height:525px; width:100%;\"></div>            <script type=\"text/javascript\">                                    window.PLOTLYENV=window.PLOTLYENV || {};                                    if (document.getElementById(\"02816a15-67bb-4cc8-bff6-949f1c77e7f3\")) {                    Plotly.newPlot(                        \"02816a15-67bb-4cc8-bff6-949f1c77e7f3\",                        [{\"marker\":{\"color\":[100,200,300,400,500],\"colorscale\":[[0.0,\"#440154\"],[0.1111111111111111,\"#482878\"],[0.2222222222222222,\"#3e4989\"],[0.3333333333333333,\"#31688e\"],[0.4444444444444444,\"#26828e\"],[0.5555555555555556,\"#1f9e89\"],[0.6666666666666666,\"#35b779\"],[0.7777777777777778,\"#6ece58\"],[0.8888888888888888,\"#b5de2b\"],[1.0,\"#fde725\"]],\"opacity\":0.8,\"size\":8},\"mode\":\"markers\",\"x\":[1,2,3,4,5],\"y\":[10,20,30,40,50],\"z\":[100,200,300,400,500],\"type\":\"scatter3d\"}],                        {\"template\":{\"data\":{\"histogram2dcontour\":[{\"type\":\"histogram2dcontour\",\"colorbar\":{\"outlinewidth\":0,\"ticks\":\"\"},\"colorscale\":[[0.0,\"#0d0887\"],[0.1111111111111111,\"#46039f\"],[0.2222222222222222,\"#7201a8\"],[0.3333333333333333,\"#9c179e\"],[0.4444444444444444,\"#bd3786\"],[0.5555555555555556,\"#d8576b\"],[0.6666666666666666,\"#ed7953\"],[0.7777777777777778,\"#fb9f3a\"],[0.8888888888888888,\"#fdca26\"],[1.0,\"#f0f921\"]]}],\"choropleth\":[{\"type\":\"choropleth\",\"colorbar\":{\"outlinewidth\":0,\"ticks\":\"\"}}],\"histogram2d\":[{\"type\":\"histogram2d\",\"colorbar\":{\"outlinewidth\":0,\"ticks\":\"\"},\"colorscale\":[[0.0,\"#0d0887\"],[0.1111111111111111,\"#46039f\"],[0.2222222222222222,\"#7201a8\"],[0.3333333333333333,\"#9c179e\"],[0.4444444444444444,\"#bd3786\"],[0.5555555555555556,\"#d8576b\"],[0.6666666666666666,\"#ed7953\"],[0.7777777777777778,\"#fb9f3a\"],[0.8888888888888888,\"#fdca26\"],[1.0,\"#f0f921\"]]}],\"heatmap\":[{\"type\":\"heatmap\",\"colorbar\":{\"outlinewidth\":0,\"ticks\":\"\"},\"colorscale\":[[0.0,\"#0d0887\"],[0.1111111111111111,\"#46039f\"],[0.2222222222222222,\"#7201a8\"],[0.3333333333333333,\"#9c179e\"],[0.4444444444444444,\"#bd3786\"],[0.5555555555555556,\"#d8576b\"],[0.6666666666666666,\"#ed7953\"],[0.7777777777777778,\"#fb9f3a\"],[0.8888888888888888,\"#fdca26\"],[1.0,\"#f0f921\"]]}],\"heatmapgl\":[{\"type\":\"heatmapgl\",\"colorbar\":{\"outlinewidth\":0,\"ticks\":\"\"},\"colorscale\":[[0.0,\"#0d0887\"],[0.1111111111111111,\"#46039f\"],[0.2222222222222222,\"#7201a8\"],[0.3333333333333333,\"#9c179e\"],[0.4444444444444444,\"#bd3786\"],[0.5555555555555556,\"#d8576b\"],[0.6666666666666666,\"#ed7953\"],[0.7777777777777778,\"#fb9f3a\"],[0.8888888888888888,\"#fdca26\"],[1.0,\"#f0f921\"]]}],\"contourcarpet\":[{\"type\":\"contourcarpet\",\"colorbar\":{\"outlinewidth\":0,\"ticks\":\"\"}}],\"contour\":[{\"type\":\"contour\",\"colorbar\":{\"outlinewidth\":0,\"ticks\":\"\"},\"colorscale\":[[0.0,\"#0d0887\"],[0.1111111111111111,\"#46039f\"],[0.2222222222222222,\"#7201a8\"],[0.3333333333333333,\"#9c179e\"],[0.4444444444444444,\"#bd3786\"],[0.5555555555555556,\"#d8576b\"],[0.6666666666666666,\"#ed7953\"],[0.7777777777777778,\"#fb9f3a\"],[0.8888888888888888,\"#fdca26\"],[1.0,\"#f0f921\"]]}],\"surface\":[{\"type\":\"surface\",\"colorbar\":{\"outlinewidth\":0,\"ticks\":\"\"},\"colorscale\":[[0.0,\"#0d0887\"],[0.1111111111111111,\"#46039f\"],[0.2222222222222222,\"#7201a8\"],[0.3333333333333333,\"#9c179e\"],[0.4444444444444444,\"#bd3786\"],[0.5555555555555556,\"#d8576b\"],[0.6666666666666666,\"#ed7953\"],[0.7777777777777778,\"#fb9f3a\"],[0.8888888888888888,\"#fdca26\"],[1.0,\"#f0f921\"]]}],\"mesh3d\":[{\"type\":\"mesh3d\",\"colorbar\":{\"outlinewidth\":0,\"ticks\":\"\"}}],\"scatter\":[{\"fillpattern\":{\"fillmode\":\"overlay\",\"size\":10,\"solidity\":0.2},\"type\":\"scatter\"}],\"parcoords\":[{\"type\":\"parcoords\",\"line\":{\"colorbar\":{\"outlinewidth\":0,\"ticks\":\"\"}}}],\"scatterpolargl\":[{\"type\":\"scatterpolargl\",\"marker\":{\"colorbar\":{\"outlinewidth\":0,\"ticks\":\"\"}}}],\"bar\":[{\"error_x\":{\"color\":\"#2a3f5f\"},\"error_y\":{\"color\":\"#2a3f5f\"},\"marker\":{\"line\":{\"color\":\"#E5ECF6\",\"width\":0.5},\"pattern\":{\"fillmode\":\"overlay\",\"size\":10,\"solidity\":0.2}},\"type\":\"bar\"}],\"scattergeo\":[{\"type\":\"scattergeo\",\"marker\":{\"colorbar\":{\"outlinewidth\":0,\"ticks\":\"\"}}}],\"scatterpolar\":[{\"type\":\"scatterpolar\",\"marker\":{\"colorbar\":{\"outlinewidth\":0,\"ticks\":\"\"}}}],\"histogram\":[{\"marker\":{\"pattern\":{\"fillmode\":\"overlay\",\"size\":10,\"solidity\":0.2}},\"type\":\"histogram\"}],\"scattergl\":[{\"type\":\"scattergl\",\"marker\":{\"colorbar\":{\"outlinewidth\":0,\"ticks\":\"\"}}}],\"scatter3d\":[{\"type\":\"scatter3d\",\"line\":{\"colorbar\":{\"outlinewidth\":0,\"ticks\":\"\"}},\"marker\":{\"colorbar\":{\"outlinewidth\":0,\"ticks\":\"\"}}}],\"scattermapbox\":[{\"type\":\"scattermapbox\",\"marker\":{\"colorbar\":{\"outlinewidth\":0,\"ticks\":\"\"}}}],\"scatterternary\":[{\"type\":\"scatterternary\",\"marker\":{\"colorbar\":{\"outlinewidth\":0,\"ticks\":\"\"}}}],\"scattercarpet\":[{\"type\":\"scattercarpet\",\"marker\":{\"colorbar\":{\"outlinewidth\":0,\"ticks\":\"\"}}}],\"carpet\":[{\"aaxis\":{\"endlinecolor\":\"#2a3f5f\",\"gridcolor\":\"white\",\"linecolor\":\"white\",\"minorgridcolor\":\"white\",\"startlinecolor\":\"#2a3f5f\"},\"baxis\":{\"endlinecolor\":\"#2a3f5f\",\"gridcolor\":\"white\",\"linecolor\":\"white\",\"minorgridcolor\":\"white\",\"startlinecolor\":\"#2a3f5f\"},\"type\":\"carpet\"}],\"table\":[{\"cells\":{\"fill\":{\"color\":\"#EBF0F8\"},\"line\":{\"color\":\"white\"}},\"header\":{\"fill\":{\"color\":\"#C8D4E3\"},\"line\":{\"color\":\"white\"}},\"type\":\"table\"}],\"barpolar\":[{\"marker\":{\"line\":{\"color\":\"#E5ECF6\",\"width\":0.5},\"pattern\":{\"fillmode\":\"overlay\",\"size\":10,\"solidity\":0.2}},\"type\":\"barpolar\"}],\"pie\":[{\"automargin\":true,\"type\":\"pie\"}]},\"layout\":{\"autotypenumbers\":\"strict\",\"colorway\":[\"#636efa\",\"#EF553B\",\"#00cc96\",\"#ab63fa\",\"#FFA15A\",\"#19d3f3\",\"#FF6692\",\"#B6E880\",\"#FF97FF\",\"#FECB52\"],\"font\":{\"color\":\"#2a3f5f\"},\"hovermode\":\"closest\",\"hoverlabel\":{\"align\":\"left\"},\"paper_bgcolor\":\"white\",\"plot_bgcolor\":\"#E5ECF6\",\"polar\":{\"bgcolor\":\"#E5ECF6\",\"angularaxis\":{\"gridcolor\":\"white\",\"linecolor\":\"white\",\"ticks\":\"\"},\"radialaxis\":{\"gridcolor\":\"white\",\"linecolor\":\"white\",\"ticks\":\"\"}},\"ternary\":{\"bgcolor\":\"#E5ECF6\",\"aaxis\":{\"gridcolor\":\"white\",\"linecolor\":\"white\",\"ticks\":\"\"},\"baxis\":{\"gridcolor\":\"white\",\"linecolor\":\"white\",\"ticks\":\"\"},\"caxis\":{\"gridcolor\":\"white\",\"linecolor\":\"white\",\"ticks\":\"\"}},\"coloraxis\":{\"colorbar\":{\"outlinewidth\":0,\"ticks\":\"\"}},\"colorscale\":{\"sequential\":[[0.0,\"#0d0887\"],[0.1111111111111111,\"#46039f\"],[0.2222222222222222,\"#7201a8\"],[0.3333333333333333,\"#9c179e\"],[0.4444444444444444,\"#bd3786\"],[0.5555555555555556,\"#d8576b\"],[0.6666666666666666,\"#ed7953\"],[0.7777777777777778,\"#fb9f3a\"],[0.8888888888888888,\"#fdca26\"],[1.0,\"#f0f921\"]],\"sequentialminus\":[[0.0,\"#0d0887\"],[0.1111111111111111,\"#46039f\"],[0.2222222222222222,\"#7201a8\"],[0.3333333333333333,\"#9c179e\"],[0.4444444444444444,\"#bd3786\"],[0.5555555555555556,\"#d8576b\"],[0.6666666666666666,\"#ed7953\"],[0.7777777777777778,\"#fb9f3a\"],[0.8888888888888888,\"#fdca26\"],[1.0,\"#f0f921\"]],\"diverging\":[[0,\"#8e0152\"],[0.1,\"#c51b7d\"],[0.2,\"#de77ae\"],[0.3,\"#f1b6da\"],[0.4,\"#fde0ef\"],[0.5,\"#f7f7f7\"],[0.6,\"#e6f5d0\"],[0.7,\"#b8e186\"],[0.8,\"#7fbc41\"],[0.9,\"#4d9221\"],[1,\"#276419\"]]},\"xaxis\":{\"gridcolor\":\"white\",\"linecolor\":\"white\",\"ticks\":\"\",\"title\":{\"standoff\":15},\"zerolinecolor\":\"white\",\"automargin\":true,\"zerolinewidth\":2},\"yaxis\":{\"gridcolor\":\"white\",\"linecolor\":\"white\",\"ticks\":\"\",\"title\":{\"standoff\":15},\"zerolinecolor\":\"white\",\"automargin\":true,\"zerolinewidth\":2},\"scene\":{\"xaxis\":{\"backgroundcolor\":\"#E5ECF6\",\"gridcolor\":\"white\",\"linecolor\":\"white\",\"showbackground\":true,\"ticks\":\"\",\"zerolinecolor\":\"white\",\"gridwidth\":2},\"yaxis\":{\"backgroundcolor\":\"#E5ECF6\",\"gridcolor\":\"white\",\"linecolor\":\"white\",\"showbackground\":true,\"ticks\":\"\",\"zerolinecolor\":\"white\",\"gridwidth\":2},\"zaxis\":{\"backgroundcolor\":\"#E5ECF6\",\"gridcolor\":\"white\",\"linecolor\":\"white\",\"showbackground\":true,\"ticks\":\"\",\"zerolinecolor\":\"white\",\"gridwidth\":2}},\"shapedefaults\":{\"line\":{\"color\":\"#2a3f5f\"}},\"annotationdefaults\":{\"arrowcolor\":\"#2a3f5f\",\"arrowhead\":0,\"arrowwidth\":1},\"geo\":{\"bgcolor\":\"white\",\"landcolor\":\"#E5ECF6\",\"subunitcolor\":\"white\",\"showland\":true,\"showlakes\":true,\"lakecolor\":\"white\"},\"title\":{\"x\":0.05},\"mapbox\":{\"style\":\"light\"}}},\"title\":{\"text\":\"3D Scatter Plot Example\"},\"scene\":{\"xaxis\":{\"title\":{\"text\":\"X-axis\"}},\"yaxis\":{\"title\":{\"text\":\"Y-axis\"}},\"zaxis\":{\"title\":{\"text\":\"Z-axis\"}}}},                        {\"responsive\": true}                    ).then(function(){\n",
              "                            \n",
              "var gd = document.getElementById('02816a15-67bb-4cc8-bff6-949f1c77e7f3');\n",
              "var x = new MutationObserver(function (mutations, observer) {{\n",
              "        var display = window.getComputedStyle(gd).display;\n",
              "        if (!display || display === 'none') {{\n",
              "            console.log([gd, 'removed!']);\n",
              "            Plotly.purge(gd);\n",
              "            observer.disconnect();\n",
              "        }}\n",
              "}});\n",
              "\n",
              "// Listen for the removal of the full notebook cells\n",
              "var notebookContainer = gd.closest('#notebook-container');\n",
              "if (notebookContainer) {{\n",
              "    x.observe(notebookContainer, {childList: true});\n",
              "}}\n",
              "\n",
              "// Listen for the clearing of the current output cell\n",
              "var outputEl = gd.closest('.output');\n",
              "if (outputEl) {{\n",
              "    x.observe(outputEl, {childList: true});\n",
              "}}\n",
              "\n",
              "                        })                };                            </script>        </div>\n",
              "</body>\n",
              "</html>"
            ]
          },
          "metadata": {}
        }
      ]
    }
  ]
}